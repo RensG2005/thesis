{
 "cells": [
  {
   "cell_type": "code",
   "execution_count": 3,
   "id": "0f0b0c67",
   "metadata": {},
   "outputs": [
    {
     "name": "stdout",
     "output_type": "stream",
     "text": [
      "Waiting 2.32 seconds before next request...\n",
      "Waiting 2.45 seconds before next request...\n",
      "Waiting 1.22 seconds before next request...\n",
      "Waiting 2.80 seconds before next request...\n",
      "Waiting 2.58 seconds before next request...\n",
      "Waiting 1.04 seconds before next request...\n",
      "Waiting 1.79 seconds before next request...\n",
      "Waiting 1.03 seconds before next request...\n",
      "Waiting 1.93 seconds before next request...\n",
      "Waiting 1.17 seconds before next request...\n",
      "No table found on page 10. This could be the end of available data.\n",
      "Scraped a total of 199 IPOs\n",
      "\n",
      "Sample of scraped data:\n",
      "      IPOdate             company     companyID Trading Location\n",
      "0  13/02/2025       FERRARI GROUP  GB00BN0VZ646        Amsterdam\n",
      "1  02/01/2025     VASTNED BELGIUM  BE0003754687        Amsterdam\n",
      "2  20/12/2024  IRIS FINANCIAL SHA  KYG7552D1354        Amsterdam\n",
      "3  16/12/2024               HAVAS  NL0015002AH0        Amsterdam\n",
      "4  27/06/2024  THE LONDON TUNNELS  GB00BS28ZN53        Amsterdam\n",
      "      IPOdate             company     companyID Trading Location\n",
      "0  13/02/2025       FERRARI GROUP  GB00BN0VZ646        Amsterdam\n",
      "1  02/01/2025     VASTNED BELGIUM  BE0003754687        Amsterdam\n",
      "2  20/12/2024  IRIS FINANCIAL SHA  KYG7552D1354        Amsterdam\n",
      "3  16/12/2024               HAVAS  NL0015002AH0        Amsterdam\n",
      "4  27/06/2024  THE LONDON TUNNELS  GB00BS28ZN53        Amsterdam\n"
     ]
    }
   ],
   "source": [
    "from iposcraper import ipo_df\n",
    "import pandas as pd\n",
    "from utils.plot_line import plot_line_graph\n",
    "from utils.normalize import normalize"
   ]
  },
  {
   "cell_type": "code",
   "execution_count": 2,
   "id": "81e74457",
   "metadata": {},
   "outputs": [
    {
     "ename": "NameError",
     "evalue": "name 'ipo_df' is not defined",
     "output_type": "error",
     "traceback": [
      "\u001b[0;31m---------------------------------------------------------------------------\u001b[0m",
      "\u001b[0;31mNameError\u001b[0m                                 Traceback (most recent call last)",
      "Cell \u001b[0;32mIn[2], line 33\u001b[0m\n\u001b[1;32m     30\u001b[0m         \u001b[38;5;28mprint\u001b[39m(\u001b[38;5;124mf\u001b[39m\u001b[38;5;124m\"\u001b[39m\u001b[38;5;124mError creating monthly IPO plot: \u001b[39m\u001b[38;5;132;01m{\u001b[39;00me\u001b[38;5;132;01m}\u001b[39;00m\u001b[38;5;124m\"\u001b[39m)\n\u001b[1;32m     31\u001b[0m         \u001b[38;5;28;01mreturn\u001b[39;00m \u001b[38;5;28;01mNone\u001b[39;00m\n\u001b[0;32m---> 33\u001b[0m summary \u001b[38;5;241m=\u001b[39m plot_monthly_ipos(ipo_df)\n",
      "\u001b[0;31mNameError\u001b[0m: name 'ipo_df' is not defined"
     ]
    }
   ],
   "source": [
    "def plot_monthly_ipos(ipo_df):\n",
    "    try:\n",
    "        # Make sure IPOdate is in datetime format\n",
    "        ipo_df[\"IPOdate\"] = pd.to_datetime(ipo_df[\"IPOdate\"])\n",
    "        ipo_df = ipo_df.sort_values('IPOdate')\n",
    "        \n",
    "        # Group by year and month and count IPOs\n",
    "        ipo_df['Year_Month'] = ipo_df['IPOdate'].dt.to_period('M').dt.to_timestamp()\n",
    "        monthly_series = ipo_df.groupby('Year_Month').size()\n",
    "        monthly_counts = monthly_series.reset_index(name='Count')\n",
    "\n",
    "        monthly_counts = normalize(monthly_counts, \"Count\")\n",
    "\n",
    "        # Use the plot_line_graph function for plotting\n",
    "        _, plt = plot_line_graph(\n",
    "            df=monthly_counts, \n",
    "            x_column='Year_Month', \n",
    "            y_column='normalized_Count',\n",
    "            title='Normalized Number of IPOs per Month',\n",
    "            xlabel='Month',\n",
    "            ylabel='Normalized IPO Count',\n",
    "            color='blue',\n",
    "            linestyle='-',\n",
    "            grid=True\n",
    "        )\n",
    "\n",
    "        plt.show()\n",
    "\n",
    "    except Exception as e:\n",
    "        print(f\"Error creating monthly IPO plot: {e}\")\n",
    "        return None\n",
    "\n",
    "summary = plot_monthly_ipos(ipo_df)"
   ]
  }
 ],
 "metadata": {
  "kernelspec": {
   "display_name": "base",
   "language": "python",
   "name": "python3"
  },
  "language_info": {
   "codemirror_mode": {
    "name": "ipython",
    "version": 3
   },
   "file_extension": ".py",
   "mimetype": "text/x-python",
   "name": "python",
   "nbconvert_exporter": "python",
   "pygments_lexer": "ipython3",
   "version": "3.12.7"
  }
 },
 "nbformat": 4,
 "nbformat_minor": 5
}
