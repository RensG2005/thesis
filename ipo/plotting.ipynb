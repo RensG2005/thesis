{
 "cells": [
  {
   "cell_type": "code",
   "execution_count": null,
   "id": "0f0b0c67",
   "metadata": {},
   "outputs": [],
   "source": [
    "from iposcraper import ipo_df\n",
    "import pandas as pd\n",
    "from utils.plot_line import plot_line_graph"
   ]
  },
  {
   "cell_type": "code",
   "execution_count": null,
   "id": "81e74457",
   "metadata": {},
   "outputs": [
    {
     "name": "stdout",
     "output_type": "stream",
     "text": [
      "Waiting 1.04 seconds before next request...\n",
      "Waiting 2.21 seconds before next request...\n",
      "Waiting 2.78 seconds before next request...\n",
      "Waiting 2.33 seconds before next request...\n"
     ]
    }
   ],
   "source": [
    "def plot_monthly_ipos(ipo_df):\n",
    "    try:\n",
    "        # Make sure IPOdate is in datetime format\n",
    "        ipo_df[\"IPOdate\"] = pd.to_datetime(ipo_df[\"IPOdate\"])\n",
    "        ipo_df = ipo_df.sort_values('IPOdate')\n",
    "        \n",
    "        # Group by year and month and count IPOs\n",
    "        ipo_df['Year_Month'] = ipo_df['IPOdate'].dt.to_period('M').dt.to_timestamp()\n",
    "        monthly_series = ipo_df.groupby('Year_Month').size()\n",
    "        monthly_counts = monthly_series.reset_index(name='Count')\n",
    "\n",
    "        monthly_counts = normalize(monthly_counts, \"Count\")\n",
    "\n",
    "        # Use the plot_line_graph function for plotting\n",
    "        _, plt = plot_line_graph(\n",
    "            df=monthly_counts, \n",
    "            x_column='Year_Month', \n",
    "            y_column='normalized_Count',\n",
    "            title='Normalized Number of IPOs per Month',\n",
    "            xlabel='Month',\n",
    "            ylabel='Normalized IPO Count',\n",
    "            color='blue',\n",
    "            linestyle='-',\n",
    "            grid=True\n",
    "        )\n",
    "\n",
    "        plt.show()\n",
    "\n",
    "    except Exception as e:\n",
    "        print(f\"Error creating monthly IPO plot: {e}\")\n",
    "        return None\n",
    "\n",
    "summary = plot_monthly_ipos(ipo_df)"
   ]
  }
 ],
 "metadata": {
  "kernelspec": {
   "display_name": "base",
   "language": "python",
   "name": "python3"
  },
  "language_info": {
   "codemirror_mode": {
    "name": "ipython",
    "version": 3
   },
   "file_extension": ".py",
   "mimetype": "text/x-python",
   "name": "python",
   "nbconvert_exporter": "python",
   "pygments_lexer": "ipython3",
   "version": "3.12.7"
  }
 },
 "nbformat": 4,
 "nbformat_minor": 5
}
